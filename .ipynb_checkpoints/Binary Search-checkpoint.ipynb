{
 "cells": [
  {
   "cell_type": "code",
   "execution_count": 78,
   "metadata": {},
   "outputs": [],
   "source": [
    "def binary_search(input_array, value):\n",
    "\n",
    "    \n",
    "    low = 0\n",
    "    high = len(input_array)-1\n",
    "    \n",
    "    while low <= high:\n",
    "       \n",
    "        mid = int((low+high)/2)\n",
    "        \n",
    "        if input_array[mid] == value:\n",
    "            return mid\n",
    "        \n",
    "        elif input_array[mid] < value:\n",
    "            low = mid + 1\n",
    "            \n",
    "        else:\n",
    "            high = mid - 1\n",
    "\n",
    "\n",
    "    return -1"
   ]
  },
  {
   "cell_type": "code",
   "execution_count": 79,
   "metadata": {},
   "outputs": [
    {
     "name": "stdout",
     "output_type": "stream",
     "text": [
      "2\n"
     ]
    }
   ],
   "source": [
    "test_list = [1,3,9,11,15,19,29]\n",
    "\n",
    "test_val2 = 9\n",
    "\n",
    "print( binary_search(test_list, test_val2))"
   ]
  },
  {
   "cell_type": "code",
   "execution_count": null,
   "metadata": {},
   "outputs": [],
   "source": []
  },
  {
   "cell_type": "code",
   "execution_count": null,
   "metadata": {},
   "outputs": [],
   "source": []
  }
 ],
 "metadata": {
  "kernelspec": {
   "display_name": "Python 3",
   "language": "python",
   "name": "python3"
  },
  "language_info": {
   "codemirror_mode": {
    "name": "ipython",
    "version": 3
   },
   "file_extension": ".py",
   "mimetype": "text/x-python",
   "name": "python",
   "nbconvert_exporter": "python",
   "pygments_lexer": "ipython3",
   "version": "3.7.1"
  }
 },
 "nbformat": 4,
 "nbformat_minor": 2
}
