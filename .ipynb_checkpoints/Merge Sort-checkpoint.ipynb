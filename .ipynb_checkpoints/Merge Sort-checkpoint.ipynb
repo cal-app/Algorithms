{
 "cells": [
  {
   "cell_type": "code",
   "execution_count": 126,
   "metadata": {},
   "outputs": [],
   "source": [
    "# Merge sort!"
   ]
  },
  {
   "cell_type": "code",
   "execution_count": 127,
   "metadata": {},
   "outputs": [],
   "source": [
    "a = [12,4,5,6,2,1,13,11]"
   ]
  },
  {
   "cell_type": "code",
   "execution_count": 128,
   "metadata": {},
   "outputs": [],
   "source": [
    "# Function to merge and sort two ordered arrays\n",
    "# Worst case time complexity: O(n+m-1) for two arrays of lengths n and m\n",
    "def sort2(array1, array2):\n",
    "    b = []\n",
    "    full = array1 + array2\n",
    "\n",
    "    # This loop compares the smallest element of each array, pops it and adds it to b\n",
    "    # Once one of the arrays is empty you dump what remains of the other array into b\n",
    "    while len(b) < len(full):\n",
    "\n",
    "        if array1[0] < array2[0]:\n",
    "            b.append(array1.pop(0))\n",
    "        \n",
    "        else:\n",
    "            b.append(array2.pop(0))\n",
    "            \n",
    "        if len(array1) == 0:\n",
    "            b += array2\n",
    "        \n",
    "        elif len(array2) == 0:\n",
    "            b += array1\n",
    "\n",
    "    return b"
   ]
  },
  {
   "cell_type": "code",
   "execution_count": 129,
   "metadata": {},
   "outputs": [],
   "source": [
    "# Merge sorts an array\n",
    "def mergesort(array):\n",
    "    \n",
    "    if len(array) == 1:\n",
    "        return(array)\n",
    "    \n",
    "    b = []\n",
    "    # Creates an array of n arrays of length 1\n",
    "    for i in range(len(array)):\n",
    "        b.append([array[i]])\n",
    "\n",
    "    # mergesort\n",
    "    while len(b) > 1:\n",
    "        c = []\n",
    "        # For odd-length b, pop and store the first element as an array inside c \n",
    "        if len(b)%2 != 0:\n",
    "            c.append(b.pop(0))\n",
    "        \n",
    "        # Compare and merge/sort neighbouring arrays inside b. Store results as arrays inside c\n",
    "        for j in range(0, len(b)-1, 2):\n",
    "            c.append(sort2(b[j], b[j+1]))\n",
    "        \n",
    "        # For the next iteration\n",
    "        # This loop runs until b is an array containing a single array of length n\n",
    "        b = c\n",
    "  \n",
    "    # Need the index [0] because c is an array inside an array\n",
    "    return c[0]\n"
   ]
  },
  {
   "cell_type": "code",
   "execution_count": 130,
   "metadata": {},
   "outputs": [],
   "source": [
    "# RECURSIVE MERGE SORT!!! Need to study this...\n",
    "def mergesortrecursive(array):\n",
    "    if len(array) > 1:\n",
    "        \n",
    "        mid = len(array)//2\n",
    "        L = array[:mid]\n",
    "        R = array[mid:]\n",
    "    \n",
    "        mergesort2(L)\n",
    "        mergesort2(R)\n",
    "        \n",
    "        i = j = k = 0\n",
    "    \n",
    "        while k < len(array): \n",
    "        \n",
    "            if i == len(L):\n",
    "                array[k:] = R[j:]\n",
    "                break\n",
    "\n",
    "            elif j == len(R):\n",
    "                array[k:] = L[i:]\n",
    "                break\n",
    "\n",
    "            if L[i] < R[j]:\n",
    "                array[k] = L[i]\n",
    "                k += 1\n",
    "                i += 1\n",
    "\n",
    "            else:\n",
    "                array[k] = R[j]\n",
    "                k += 1   \n",
    "                j += 1\n",
    "    \n",
    "\n",
    "    return array\n",
    "    \n",
    "    "
   ]
  },
  {
   "cell_type": "code",
   "execution_count": 131,
   "metadata": {},
   "outputs": [
    {
     "data": {
      "text/plain": [
       "[1, 2, 4, 5, 6, 11, 12, 13]"
      ]
     },
     "execution_count": 131,
     "metadata": {},
     "output_type": "execute_result"
    }
   ],
   "source": [
    "mergesortrecursive(a)"
   ]
  },
  {
   "cell_type": "code",
   "execution_count": null,
   "metadata": {},
   "outputs": [],
   "source": []
  }
 ],
 "metadata": {
  "kernelspec": {
   "display_name": "Python 3",
   "language": "python",
   "name": "python3"
  },
  "language_info": {
   "codemirror_mode": {
    "name": "ipython",
    "version": 3
   },
   "file_extension": ".py",
   "mimetype": "text/x-python",
   "name": "python",
   "nbconvert_exporter": "python",
   "pygments_lexer": "ipython3",
   "version": "3.7.1"
  }
 },
 "nbformat": 4,
 "nbformat_minor": 2
}
