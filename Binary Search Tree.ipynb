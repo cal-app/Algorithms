{
 "cells": [
  {
   "cell_type": "code",
   "execution_count": 3,
   "metadata": {},
   "outputs": [],
   "source": [
    "class Node(object):\n",
    "    def __init__(self, value):\n",
    "        self.value = value\n",
    "        self.left = None\n",
    "        self.right = None"
   ]
  },
  {
   "cell_type": "code",
   "execution_count": 56,
   "metadata": {},
   "outputs": [],
   "source": [
    "class BST(object):\n",
    "    def __init__(self, root):\n",
    "        self.root = Node(root)\n",
    "\n",
    "    def insert(self, new_val):\n",
    "        \n",
    "        \"\"\"\n",
    "        Starts at root. \n",
    "        Compares with new value and move right or left accordingly\n",
    "        Until we reach empty space appropriate for the new value\n",
    "        \n",
    "        \"\"\"     \n",
    "        current = self.root\n",
    "\n",
    "        while True:\n",
    "            \n",
    "            while new_val > current.value:\n",
    "                if current.right:\n",
    "                    current = current.right\n",
    "                else:\n",
    "                    current.right = Node(new_val)\n",
    "                    return\n",
    "\n",
    "            while new_val < current.value:\n",
    "                if current.left:\n",
    "                    current = current.left\n",
    "                else:\n",
    "                    current.left = Node(new_val)\n",
    "                    return\n",
    "     \n",
    "\n",
    "    def search(self, find_val):\n",
    "\n",
    "        return self.BSTsearch(self.root, find_val)\n",
    "    \n",
    "    def BSTsearch(self, start, find_val):\n",
    "        \n",
    "        if start:\n",
    "            if find_val == start.value:\n",
    "                return True\n",
    "        \n",
    "            elif find_val > start.value:\n",
    "                return self.BSTsearch(start.right, find_val)\n",
    "        \n",
    "            else:\n",
    "                return self.BSTsearch(start.left, find_val)\n",
    "            \n",
    "        \n",
    "        return False"
   ]
  },
  {
   "cell_type": "code",
   "execution_count": 57,
   "metadata": {},
   "outputs": [],
   "source": [
    "# Set up tree\n",
    "tree = BST(4)\n",
    "\n",
    "# Insert elements\n",
    "tree.insert(2)\n",
    "tree.insert(1)\n",
    "tree.insert(3)\n",
    "tree.insert(5)"
   ]
  },
  {
   "cell_type": "code",
   "execution_count": 61,
   "metadata": {},
   "outputs": [
    {
     "name": "stdout",
     "output_type": "stream",
     "text": [
      "looking at 4\n",
      "True\n",
      "looking at 4\n",
      "looking at 5\n",
      "False\n"
     ]
    }
   ],
   "source": [
    "# Check search\n",
    "# Should be True\n",
    "print (tree.search(4))\n",
    "# Should be False\n",
    "print (tree.search(6))"
   ]
  },
  {
   "cell_type": "code",
   "execution_count": null,
   "metadata": {},
   "outputs": [],
   "source": []
  }
 ],
 "metadata": {
  "kernelspec": {
   "display_name": "Python 3",
   "language": "python",
   "name": "python3"
  },
  "language_info": {
   "codemirror_mode": {
    "name": "ipython",
    "version": 3
   },
   "file_extension": ".py",
   "mimetype": "text/x-python",
   "name": "python",
   "nbconvert_exporter": "python",
   "pygments_lexer": "ipython3",
   "version": "3.7.1"
  }
 },
 "nbformat": 4,
 "nbformat_minor": 2
}
