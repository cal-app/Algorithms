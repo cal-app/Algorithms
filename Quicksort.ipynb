{
 "cells": [
  {
   "cell_type": "code",
   "execution_count": 1,
   "metadata": {},
   "outputs": [],
   "source": [
    "test = [21, 4, 1, 3, 9, 20, 25, 6, 21, 14]"
   ]
  },
  {
   "cell_type": "code",
   "execution_count": 4,
   "metadata": {},
   "outputs": [],
   "source": [
    "def quicksort(array):\n",
    "    \n",
    "    if len(array) == 1:\n",
    "        return array\n",
    "    \n",
    "    pivot = len(array)-1\n",
    "    \n",
    "    i = 0\n",
    "    \n",
    "    while i < pivot:\n",
    "        \n",
    "        while array[i] > array[pivot]:\n",
    "            array[i], array[pivot-1], array[pivot] = array[pivot-1], array[pivot], array[i]\n",
    "            pivot -= 1\n",
    "        \n",
    "        i += 1\n",
    "            \n",
    "\n",
    "    L = array[:pivot]\n",
    "    R = array[pivot:]\n",
    "    \n",
    "    array = quicksort(L) + quicksort(R)\n",
    "            \n",
    "    \n",
    "    \n",
    "    return array\n",
    "            "
   ]
  },
  {
   "cell_type": "code",
   "execution_count": 5,
   "metadata": {},
   "outputs": [
    {
     "name": "stdout",
     "output_type": "stream",
     "text": [
      "[6, 4, 1, 3, 9, 14, 25, 20, 21, 21]\n",
      "[6, 4, 1, 3, 9, 14, 21, 20]\n",
      "[6, 4, 1, 3]\n",
      "[1, 4, 3, 6]\n"
     ]
    },
    {
     "data": {
      "text/plain": [
       "[1, 3, 4, 6, 9, 14, 20, 21, 21, 25]"
      ]
     },
     "execution_count": 5,
     "metadata": {},
     "output_type": "execute_result"
    }
   ],
   "source": [
    "quicksort(test)"
   ]
  },
  {
   "cell_type": "code",
   "execution_count": null,
   "metadata": {},
   "outputs": [],
   "source": []
  }
 ],
 "metadata": {
  "kernelspec": {
   "display_name": "Python 3",
   "language": "python",
   "name": "python3"
  },
  "language_info": {
   "codemirror_mode": {
    "name": "ipython",
    "version": 3
   },
   "file_extension": ".py",
   "mimetype": "text/x-python",
   "name": "python",
   "nbconvert_exporter": "python",
   "pygments_lexer": "ipython3",
   "version": "3.7.1"
  }
 },
 "nbformat": 4,
 "nbformat_minor": 2
}
